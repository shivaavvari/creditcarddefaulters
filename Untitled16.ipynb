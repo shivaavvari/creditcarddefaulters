{
  "nbformat": 4,
  "nbformat_minor": 0,
  "metadata": {
    "colab": {
      "private_outputs": true,
      "provenance": [],
      "gpuType": "V28",
      "authorship_tag": "ABX9TyO/MhhDdreoj0bCQsg6oP3O",
      "include_colab_link": true
    },
    "kernelspec": {
      "name": "python3",
      "display_name": "Python 3"
    },
    "language_info": {
      "name": "python"
    },
    "accelerator": "TPU"
  },
  "cells": [
    {
      "cell_type": "markdown",
      "metadata": {
        "id": "view-in-github",
        "colab_type": "text"
      },
      "source": [
        "<a href=\"https://colab.research.google.com/github/shivaavvari/creditcarddefaulters/blob/main/Untitled16.ipynb\" target=\"_parent\"><img src=\"https://colab.research.google.com/assets/colab-badge.svg\" alt=\"Open In Colab\"/></a>"
      ]
    },
    {
      "cell_type": "code",
      "execution_count": null,
      "metadata": {
        "id": "nMit8Wdu4kOm"
      },
      "outputs": [],
      "source": [
        "import kagglehub\n",
        "\n",
        "# Download latest version\n",
        "path = kagglehub.dataset_download(\"mlg-ulb/creditcardfraud\")\n",
        "\n",
        "print(\"Path to dataset files:\", path)"
      ]
    },
    {
      "cell_type": "code",
      "source": [
        "import pandas as pd\n",
        "import numpy as np\n",
        "df = pd.read_csv(\"/root/.cache/kagglehub/datasets/mlg-ulb/creditcardfraud/versions/3/creditcard.csv\",sep=\",\")"
      ],
      "metadata": {
        "id": "liqCXpgk5FHf"
      },
      "execution_count": null,
      "outputs": []
    },
    {
      "cell_type": "markdown",
      "source": [
        "# New Section"
      ],
      "metadata": {
        "id": "s4lhbZVf5JiQ"
      }
    },
    {
      "cell_type": "code",
      "source": [
        "X =df[df.columns[:-1]]\n",
        "y = df[df.columns[-1]]"
      ],
      "metadata": {
        "id": "LyLFEAiG510g"
      },
      "execution_count": null,
      "outputs": []
    },
    {
      "cell_type": "markdown",
      "source": [],
      "metadata": {
        "id": "9KHjqJXn6eFZ"
      }
    },
    {
      "cell_type": "code",
      "source": [
        "from sklearn.model_selection import train_test_split\n",
        "\n",
        "X_train,X_test,y_train,y_test = train_test_split(X,y,test_size=0.33,random_state=42)"
      ],
      "metadata": {
        "id": "CPwHlmUL5184"
      },
      "execution_count": null,
      "outputs": []
    },
    {
      "cell_type": "code",
      "source": [
        "from sklearn.ensemble import RandomForestClassifier\n",
        "\n",
        "cls = RandomForestClassifier()\n",
        "\n",
        "cls.fit(X_train,y_train )"
      ],
      "metadata": {
        "id": "8H73Og9e5_4o"
      },
      "execution_count": null,
      "outputs": []
    },
    {
      "cell_type": "code",
      "source": [
        "y_pred = cls.predict(X_test)\n"
      ],
      "metadata": {
        "id": "t6ftdSRL5__i"
      },
      "execution_count": null,
      "outputs": []
    },
    {
      "cell_type": "code",
      "source": [
        "from sklearn.metrics  import confusion_matrix ,roc_auc_score ,roc_curve, ConfusionMatrixDisplay ,RocCurveDisplay\n",
        "import matplotlib.pyplot as plt\n",
        "import numpy as np\n",
        "from mlxtend.plotting import plot_confusion_matrix\n",
        "%matplotlib inline"
      ],
      "metadata": {
        "id": "n2FbSPz65-H3"
      },
      "execution_count": null,
      "outputs": []
    },
    {
      "cell_type": "code",
      "source": [
        "cm=confusion_matrix(y_test,y_pred)"
      ],
      "metadata": {
        "id": "sJCmCYn7BFLx"
      },
      "execution_count": null,
      "outputs": []
    },
    {
      "cell_type": "code",
      "source": [
        "cm_display =ConfusionMatrixDisplay(cm,display_labels=[0,1])\n",
        "cm_display.plot()\n",
        "plt.show()"
      ],
      "metadata": {
        "collapsed": true,
        "id": "El_G1OBUBRho"
      },
      "execution_count": null,
      "outputs": []
    },
    {
      "cell_type": "code",
      "source": [],
      "metadata": {
        "id": "Pn1PJ1AGG4PT"
      },
      "execution_count": null,
      "outputs": []
    },
    {
      "cell_type": "code",
      "source": [
        "plot_confusion_matrix(cm,colorbar=True)\n",
        "plt.show()"
      ],
      "metadata": {
        "collapsed": true,
        "id": "9wXfujsFGw-F"
      },
      "execution_count": null,
      "outputs": []
    },
    {
      "cell_type": "code",
      "source": [
        "from sklearn.metrics import f1_score,precision_score,recall_score,accuracy_score"
      ],
      "metadata": {
        "id": "2QiM3OPLDi3x"
      },
      "execution_count": null,
      "outputs": []
    },
    {
      "cell_type": "code",
      "source": [
        "f1_score(y_test,y_pred)"
      ],
      "metadata": {
        "id": "dx1fZ9GfHpwy"
      },
      "execution_count": null,
      "outputs": []
    },
    {
      "cell_type": "code",
      "source": [
        "precision_score(y_test,y_pred)"
      ],
      "metadata": {
        "id": "4xS-xxcZHxZa"
      },
      "execution_count": null,
      "outputs": []
    },
    {
      "cell_type": "code",
      "source": [
        "recall_score(y_test,y_pred)"
      ],
      "metadata": {
        "id": "CCQOE7kgH2qi"
      },
      "execution_count": null,
      "outputs": []
    },
    {
      "cell_type": "code",
      "source": [
        "accuracy_score(y_test,y_pred)"
      ],
      "metadata": {
        "id": "7cfYlKLOH5j6"
      },
      "execution_count": null,
      "outputs": []
    },
    {
      "cell_type": "code",
      "source": [
        "y_score = cls.predict_proba(X_train)[:,1]\n",
        "y_score\n",
        "roc_auc_score(y_train,y_score)\n"
      ],
      "metadata": {
        "id": "LWn1zi0rH_mq"
      },
      "execution_count": null,
      "outputs": []
    },
    {
      "cell_type": "code",
      "source": [
        "from sklearn.metrics import PrecisionRecallDisplay"
      ],
      "metadata": {
        "id": "XpKupbl8IomK"
      },
      "execution_count": null,
      "outputs": []
    },
    {
      "cell_type": "code",
      "source": [
        "PrecisionRecallDisplay.from_estimator(cls,X_test,y_test,plot_chance_level=True)"
      ],
      "metadata": {
        "id": "4cLNtc_sMqgl"
      },
      "execution_count": null,
      "outputs": []
    },
    {
      "cell_type": "code",
      "source": [
        "PrecisionRecallDisplay.from_predictions(y_test,y_pred)"
      ],
      "metadata": {
        "id": "kljuFgHlM48j"
      },
      "execution_count": null,
      "outputs": []
    },
    {
      "cell_type": "code",
      "source": [
        "from sklearn.ensemble import AdaBoostClassifier\n",
        "from sklearn.tree import DecisionTreeClassifier"
      ],
      "metadata": {
        "id": "KUF8g-27Oi-8"
      },
      "execution_count": null,
      "outputs": []
    },
    {
      "cell_type": "code",
      "source": [
        "weak_learner = DecisionTreeClassifier(max_leaf_nodes=8)"
      ],
      "metadata": {
        "id": "5evCrxk9QBzM"
      },
      "execution_count": null,
      "outputs": []
    },
    {
      "cell_type": "code",
      "source": [
        "clf = AdaBoostClassifier(estimator=weak_learner,n_estimators=200,algorithm='SAMME',random_state=42)"
      ],
      "metadata": {
        "id": "V6ldpYlaQFFs"
      },
      "execution_count": null,
      "outputs": []
    },
    {
      "cell_type": "code",
      "source": [
        "clf.fit(X_train,y_train)"
      ],
      "metadata": {
        "id": "YdmhHkpCQGML"
      },
      "execution_count": null,
      "outputs": []
    },
    {
      "cell_type": "code",
      "source": [
        "y_pred_ada = clf.predict(X_test)"
      ],
      "metadata": {
        "id": "pG_MFzxHR2wU"
      },
      "execution_count": null,
      "outputs": []
    },
    {
      "cell_type": "code",
      "source": [
        "cm_ada=confusion_matrix(y_test,y_pred_ada)"
      ],
      "metadata": {
        "id": "o_UFrMg6WANF"
      },
      "execution_count": null,
      "outputs": []
    },
    {
      "cell_type": "code",
      "source": [
        "cm_ada_display =ConfusionMatrixDisplay(cm_ada,display_labels=[0,1])\n",
        "cm_ada_display.plot()\n",
        "plt.show()"
      ],
      "metadata": {
        "id": "IuH7qHzrWKZN"
      },
      "execution_count": null,
      "outputs": []
    },
    {
      "cell_type": "code",
      "source": [
        "plot_confusion_matrix(cm_ada,colorbar=True)\n",
        "plt.show()"
      ],
      "metadata": {
        "id": "kgm4aS3oWW5V"
      },
      "execution_count": null,
      "outputs": []
    },
    {
      "cell_type": "code",
      "source": [
        "f1_score(y_test,y_pred_ada)"
      ],
      "metadata": {
        "id": "qcwDtbwyXjBF"
      },
      "execution_count": null,
      "outputs": []
    },
    {
      "cell_type": "code",
      "source": [
        "precision_score(y_test,y_pred_ada\n",
        "                )\n"
      ],
      "metadata": {
        "id": "jgj0t6IvYPCF"
      },
      "execution_count": null,
      "outputs": []
    },
    {
      "cell_type": "code",
      "source": [
        "accuracy_score(y_test,y_pred_ada\n",
        "               )"
      ],
      "metadata": {
        "id": "1Bf-Rv6fYXJp"
      },
      "execution_count": null,
      "outputs": []
    },
    {
      "cell_type": "code",
      "source": [
        "PrecisionRecallDisplay.from_estimator(clf,X_test,y_test,plot_chance_level=True)"
      ],
      "metadata": {
        "id": "0YYszf7zYlf3"
      },
      "execution_count": null,
      "outputs": []
    },
    {
      "cell_type": "code",
      "source": [
        "PrecisionRecallDisplay.from_predictions(y_test,y_pred_ada)"
      ],
      "metadata": {
        "id": "3EhHm8ENYtY1"
      },
      "execution_count": null,
      "outputs": []
    },
    {
      "cell_type": "code",
      "source": [
        "cm_ada"
      ],
      "metadata": {
        "id": "aRRj5KUUdQDO"
      },
      "execution_count": null,
      "outputs": []
    },
    {
      "cell_type": "code",
      "source": [
        "from sklearn.metrics import classification_report"
      ],
      "metadata": {
        "id": "fiXqENlHdmK5"
      },
      "execution_count": null,
      "outputs": []
    },
    {
      "cell_type": "code",
      "source": [
        "print(classification_report(y_test,y_pred))"
      ],
      "metadata": {
        "id": "K3jhSGzRfYiX"
      },
      "execution_count": null,
      "outputs": []
    },
    {
      "cell_type": "code",
      "source": [
        "\n",
        "print(classification_report(y_test,y_pred_ada ))"
      ],
      "metadata": {
        "id": "ad_SAWHMflAY"
      },
      "execution_count": null,
      "outputs": []
    },
    {
      "cell_type": "code",
      "source": [
        "r = classification_report(y_test,y_pred)"
      ],
      "metadata": {
        "id": "R7F_SVpGfn43"
      },
      "execution_count": null,
      "outputs": []
    },
    {
      "cell_type": "code",
      "source": [
        "classification_report(y_test,y_pred_ada )"
      ],
      "metadata": {
        "id": "fEl_8QMkhTOP"
      },
      "execution_count": null,
      "outputs": []
    },
    {
      "cell_type": "code",
      "source": [
        "y_score_ada = clf.predict_proba(X_train)[:,1]\n",
        "y_score_ada\n",
        "roc_auc_score(y_train,y_score_ada)"
      ],
      "metadata": {
        "id": "5KuiaSuwhwp_"
      },
      "execution_count": null,
      "outputs": []
    },
    {
      "cell_type": "code",
      "source": [],
      "metadata": {
        "id": "jVx9FuzolCuA"
      },
      "execution_count": null,
      "outputs": []
    }
  ]
}