{
  "nbformat": 4,
  "nbformat_minor": 0,
  "metadata": {
    "colab": {
      "private_outputs": true,
      "provenance": [],
      "gpuType": "V28",
      "authorship_tag": "ABX9TyMWKg4e4OsSLL903ewn0yVT",
      "include_colab_link": true
    },
    "kernelspec": {
      "name": "python3",
      "display_name": "Python 3"
    },
    "language_info": {
      "name": "python"
    },
    "accelerator": "TPU"
  },
  "cells": [
    {
      "cell_type": "markdown",
      "metadata": {
        "id": "view-in-github",
        "colab_type": "text"
      },
      "source": [
        "<a href=\"https://colab.research.google.com/github/shivaavvari/creditcarddefaulters/blob/main/creditcard.ipynb\" target=\"_parent\"><img src=\"https://colab.research.google.com/assets/colab-badge.svg\" alt=\"Open In Colab\"/></a>"
      ]
    },
    {
      "cell_type": "code",
      "execution_count": null,
      "metadata": {
        "id": "nMit8Wdu4kOm"
      },
      "outputs": [],
      "source": [
        "import kagglehub\n",
        "\n",
        "# Download latest version\n",
        "path = kagglehub.dataset_download(\"mlg-ulb/creditcardfraud\")\n",
        "\n",
        "print(\"Path to dataset files:\", path)"
      ]
    },
    {
      "cell_type": "code",
      "source": [
        "import pandas as pd\n",
        "import numpy as np\n",
        "df = pd.read_csv(\"/root/.cache/kagglehub/datasets/mlg-ulb/creditcardfraud/versions/3/creditcard.csv\",sep=\",\")"
      ],
      "metadata": {
        "id": "liqCXpgk5FHf"
      },
      "execution_count": null,
      "outputs": []
    },
    {
      "cell_type": "markdown",
      "source": [
        "# New Section"
      ],
      "metadata": {
        "id": "s4lhbZVf5JiQ"
      }
    },
    {
      "cell_type": "code",
      "source": [
        "X =df[df.columns[:-1]]\n",
        "y = df[df.columns[-1]]"
      ],
      "metadata": {
        "id": "LyLFEAiG510g"
      },
      "execution_count": null,
      "outputs": []
    },
    {
      "cell_type": "markdown",
      "source": [],
      "metadata": {
        "id": "9KHjqJXn6eFZ"
      }
    },
    {
      "cell_type": "code",
      "source": [
        "from sklearn.model_selection import train_test_split\n",
        "\n",
        "X_train,X_test,y_train,y_test = train_test_split(X,y,test_size=0.33,random_state=42)"
      ],
      "metadata": {
        "id": "CPwHlmUL5184"
      },
      "execution_count": null,
      "outputs": []
    },
    {
      "cell_type": "code",
      "source": [
        "from sklearn.ensemble import RandomForestClassifier\n",
        "\n",
        "cls = RandomForestClassifier()\n",
        "\n",
        "cls.fit(X_train,y_train )"
      ],
      "metadata": {
        "id": "8H73Og9e5_4o"
      },
      "execution_count": null,
      "outputs": []
    },
    {
      "cell_type": "code",
      "source": [
        "y_pred = cls.predict(X_test)\n"
      ],
      "metadata": {
        "id": "t6ftdSRL5__i"
      },
      "execution_count": null,
      "outputs": []
    },
    {
      "cell_type": "code",
      "source": [
        "from sklearn.metrics  import confusion_matrix ,roc_auc_score ,roc_curve, ConfusionMatrixDisplay ,RocCurveDisplay\n",
        "import matplotlib.pyplot as plt\n",
        "import numpy as np\n",
        "from mlxtend.plotting import plot_confusion_matrix\n",
        "%matplotlib inline"
      ],
      "metadata": {
        "id": "n2FbSPz65-H3"
      },
      "execution_count": null,
      "outputs": []
    },
    {
      "cell_type": "code",
      "source": [
        "cm=confusion_matrix(y_test,y_pred.round())"
      ],
      "metadata": {
        "id": "sJCmCYn7BFLx"
      },
      "execution_count": null,
      "outputs": []
    },
    {
      "cell_type": "code",
      "source": [
        "cm_display =ConfusionMatrixDisplay(cm,display_labels=[0,1])\n",
        "cm_display.plot()\n",
        "plt.show()"
      ],
      "metadata": {
        "collapsed": true,
        "id": "El_G1OBUBRho"
      },
      "execution_count": null,
      "outputs": []
    },
    {
      "cell_type": "code",
      "source": [],
      "metadata": {
        "id": "Pn1PJ1AGG4PT"
      },
      "execution_count": null,
      "outputs": []
    },
    {
      "cell_type": "code",
      "source": [
        "plot_confusion_matrix(cm,colorbar=True)\n",
        "plt.show()"
      ],
      "metadata": {
        "collapsed": true,
        "id": "9wXfujsFGw-F"
      },
      "execution_count": null,
      "outputs": []
    },
    {
      "cell_type": "code",
      "source": [
        "from sklearn.metrics import f1_score,precision_score,recall_score,accuracy_score"
      ],
      "metadata": {
        "id": "2QiM3OPLDi3x"
      },
      "execution_count": null,
      "outputs": []
    },
    {
      "cell_type": "code",
      "source": [
        "f1_score(y_test,y_pred.round())"
      ],
      "metadata": {
        "id": "dx1fZ9GfHpwy"
      },
      "execution_count": null,
      "outputs": []
    },
    {
      "cell_type": "code",
      "source": [
        "precision_score(y_test,y_pred.round())"
      ],
      "metadata": {
        "id": "4xS-xxcZHxZa"
      },
      "execution_count": null,
      "outputs": []
    },
    {
      "cell_type": "code",
      "source": [
        "recall_score(y_test,y_pred.round())"
      ],
      "metadata": {
        "id": "CCQOE7kgH2qi"
      },
      "execution_count": null,
      "outputs": []
    },
    {
      "cell_type": "code",
      "source": [
        "accuracy_score(y_test,y_pred.round())"
      ],
      "metadata": {
        "id": "7cfYlKLOH5j6"
      },
      "execution_count": null,
      "outputs": []
    },
    {
      "cell_type": "code",
      "source": [
        "roc_auc_score(y_test,y_pred)"
      ],
      "metadata": {
        "id": "LWn1zi0rH_mq"
      },
      "execution_count": null,
      "outputs": []
    },
    {
      "cell_type": "code",
      "source": [
        " roc_auc_score(y_test,y_pred.round())\n"
      ],
      "metadata": {
        "id": "iJ9fjhwjIORC"
      },
      "execution_count": null,
      "outputs": []
    },
    {
      "cell_type": "code",
      "source": [
        "from sklearn.metrics import PrecisionRecallDisplay"
      ],
      "metadata": {
        "id": "XpKupbl8IomK"
      },
      "execution_count": null,
      "outputs": []
    },
    {
      "cell_type": "code",
      "source": [
        "PrecisionRecallDisplay.from_estimator(cls,X_test,y_test,plot_chance_level=True)"
      ],
      "metadata": {
        "id": "4cLNtc_sMqgl"
      },
      "execution_count": null,
      "outputs": []
    },
    {
      "cell_type": "code",
      "source": [
        "PrecisionRecallDisplay.from_predictions(y_test,y_pred)"
      ],
      "metadata": {
        "id": "kljuFgHlM48j"
      },
      "execution_count": null,
      "outputs": []
    },
    {
      "cell_type": "code",
      "source": [],
      "metadata": {
        "id": "KUF8g-27Oi-8"
      },
      "execution_count": null,
      "outputs": []
    }
  ]
}